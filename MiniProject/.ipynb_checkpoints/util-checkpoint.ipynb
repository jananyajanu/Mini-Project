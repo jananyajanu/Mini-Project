{
 "cells": [
  {
   "cell_type": "code",
   "execution_count": null,
   "id": "e97ada81-02d2-4dac-b13a-36b23d0a0097",
   "metadata": {},
   "outputs": [],
   "source": [
    "import numpy as np\n",
    "\n",
    "def get_angle(a, b, c):\n",
    "    radians = np.arctan2(c[1] - b[1], c[0] - b[0]) - np.arctan2(a[1] - b[1], a[0] - b[0])\n",
    "    angle = np.abs(np.degrees(radians))\n",
    "    return angle\n",
    "\n",
    "\n",
    "def get_distance(landmark_ist):\n",
    "    if len(landmark_ist) < 2:\n",
    "        return\n",
    "    (x1, y1), (x2, y2) = landmark_ist[0], landmark_ist[1]\n",
    "    L = np.hypot(x2 - x1, y2 - y1)\n",
    "    return np.interp(L, [0, 1], [0, 1000])"
   ]
  }
 ],
 "metadata": {
  "kernelspec": {
   "display_name": "Python 3 (ipykernel)",
   "language": "python",
   "name": "python3"
  },
  "language_info": {
   "codemirror_mode": {
    "name": "ipython",
    "version": 3
   },
   "file_extension": ".py",
   "mimetype": "text/x-python",
   "name": "python",
   "nbconvert_exporter": "python",
   "pygments_lexer": "ipython3",
   "version": "3.9.0"
  }
 },
 "nbformat": 4,
 "nbformat_minor": 5
}
