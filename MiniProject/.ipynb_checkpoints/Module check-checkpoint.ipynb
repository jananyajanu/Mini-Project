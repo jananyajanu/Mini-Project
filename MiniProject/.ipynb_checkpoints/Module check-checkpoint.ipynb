{
 "cells": [
  {
   "cell_type": "code",
   "execution_count": 2,
   "id": "08e2609b-26fc-4e4d-9cdd-914ccc7b0398",
   "metadata": {},
   "outputs": [
    {
     "name": "stdout",
     "output_type": "stream",
     "text": [
      "4.10.0\n"
     ]
    }
   ],
   "source": [
    "import cv2\n",
    "print(cv2.__version__)"
   ]
  },
  {
   "cell_type": "code",
   "execution_count": 3,
   "id": "2b1b8fa8-5bfb-4c54-a913-dcf833b3b128",
   "metadata": {},
   "outputs": [
    {
     "name": "stdout",
     "output_type": "stream",
     "text": [
      "('64bit', 'WindowsPE')\n"
     ]
    }
   ],
   "source": [
    "import platform\n",
    "print(platform.architecture())\n"
   ]
  },
  {
   "cell_type": "code",
   "execution_count": 4,
   "id": "a722f17c-e34f-4241-bead-431c42b16d06",
   "metadata": {},
   "outputs": [],
   "source": [
    "import ctypes\n",
    "import comtypes\n",
    "from pycaw.pycaw import AudioUtilities, IAudioEndpointVolume\n"
   ]
  },
  {
   "cell_type": "code",
   "execution_count": 5,
   "id": "d206ecba-efd2-4149-ba10-78dd9e1c6051",
   "metadata": {},
   "outputs": [
    {
     "ename": "ModuleNotFoundError",
     "evalue": "No module named 'autopy'",
     "output_type": "error",
     "traceback": [
      "\u001b[1;31m------------------------------------------------------------------------\u001b[0m",
      "\u001b[1;31mModuleNotFoundError\u001b[0m                    Traceback (most recent call last)",
      "Cell \u001b[1;32mIn[5], line 1\u001b[0m\n\u001b[1;32m----> 1\u001b[0m \u001b[38;5;28;01mimport\u001b[39;00m \u001b[38;5;21;01mautopy\u001b[39;00m\n",
      "\u001b[1;31mModuleNotFoundError\u001b[0m: No module named 'autopy'"
     ]
    }
   ],
   "source": [
    "import autopy"
   ]
  },
  {
   "cell_type": "code",
   "execution_count": 6,
   "id": "b06b15bd-b632-46da-83e6-dcf573dfc250",
   "metadata": {},
   "outputs": [
    {
     "name": "stdout",
     "output_type": "stream",
     "text": [
      "0.10.18\n"
     ]
    }
   ],
   "source": [
    "import mediapipe as mp\n",
    "print(mp.__version__)\n"
   ]
  },
  {
   "cell_type": "code",
   "execution_count": null,
   "id": "53797760-fc69-41b6-87d4-286c690dec05",
   "metadata": {},
   "outputs": [],
   "source": []
  }
 ],
 "metadata": {
  "kernelspec": {
   "display_name": "Python 3 (ipykernel)",
   "language": "python",
   "name": "python3"
  },
  "language_info": {
   "codemirror_mode": {
    "name": "ipython",
    "version": 3
   },
   "file_extension": ".py",
   "mimetype": "text/x-python",
   "name": "python",
   "nbconvert_exporter": "python",
   "pygments_lexer": "ipython3",
   "version": "3.9.0"
  }
 },
 "nbformat": 4,
 "nbformat_minor": 5
}
